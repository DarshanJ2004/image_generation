{
 "cells": [
  {
   "cell_type": "code",
   "execution_count": 1,
   "id": "3ac702f2",
   "metadata": {},
   "outputs": [
    {
     "name": "stdout",
     "output_type": "stream",
     "text": [
      "CUDA available: True\n"
     ]
    }
   ],
   "source": [
    "import torch\n",
    "print(\"CUDA available:\", torch.cuda.is_available())"
   ]
  },
  {
   "cell_type": "code",
   "execution_count": null,
   "id": "5a4bf107",
   "metadata": {},
   "outputs": [],
   "source": [
    "\n",
    "# Step 0: Imports & Setup\n",
    "\n",
    "import torch, random, json, time\n",
    "from pathlib import Path\n",
    "from diffusers import StableDiffusionXLPipeline, EulerAncestralDiscreteScheduler\n",
    "from PIL import Image\n",
    "\n",
    "# Folders\n",
    "PROJECT = \"landmark_cuda_run\"\n",
    "OUT_DIR = Path(PROJECT) / \"outputs\"\n",
    "META_DIR = Path(PROJECT) / \"meta\"\n",
    "for p in [OUT_DIR, META_DIR]: p.mkdir(parents=True, exist_ok=True)\n",
    "\n",
    "# Force GPU\n",
    "assert torch.cuda.is_available(), \"CUDA GPU not available. Install NVIDIA drivers + CUDA-enabled PyTorch.\"\n",
    "device = \"cuda\"\n",
    "print(\"Running on:\", torch.cuda.get_device_name(0))\n",
    "\n",
    "# Seed\n",
    "def set_seed(seed: int = 1234):\n",
    "    import numpy as np\n",
    "    random.seed(seed); np.random.seed(seed)\n",
    "    torch.manual_seed(seed); torch.cuda.manual_seed_all(seed)\n"
   ]
  },
  {
   "cell_type": "code",
   "execution_count": null,
   "id": "d5055e71",
   "metadata": {},
   "outputs": [
    {
     "name": "stderr",
     "output_type": "stream",
     "text": [
      "Cannot initialize model with low cpu memory usage because `accelerate` was not found in the environment. Defaulting to `low_cpu_mem_usage=False`. It is strongly recommended to install `accelerate` for faster and less memory-intense model loading. You can do so with: \n",
      "```\n",
      "pip install accelerate\n",
      "```\n",
      ".\n",
      "Loading pipeline components...: 100%|██████████| 7/7 [00:02<00:00,  2.71it/s]\n"
     ]
    },
    {
     "name": "stdout",
     "output_type": "stream",
     "text": [
      "✅ Pipeline loaded on GPU\n"
     ]
    }
   ],
   "source": [
    "\n",
    "# Step 1: Load SDXL on GPU\n",
    "\n",
    "MODEL_ID = \"stabilityai/stable-diffusion-xl-base-1.0\"\n",
    "\n",
    "\n",
    "pipe = StableDiffusionXLPipeline.from_pretrained(\n",
    "    MODEL_ID,\n",
    "    torch_dtype=torch.float16,   \n",
    "    variant=\"fp16\",\n",
    "    use_safetensors=True\n",
    ").to(device)\n",
    "\n",
    "pipe.scheduler = EulerAncestralDiscreteScheduler.from_config(pipe.scheduler.config)\n",
    "\n",
    "# Memory optimizations\n",
    "\n",
    "pipe.enable_vae_slicing()\n",
    "pipe.enable_vae_tiling()\n",
    "\n",
    "print(\"✅ Pipeline loaded on GPU\")\n"
   ]
  },
  {
   "cell_type": "code",
   "execution_count": null,
   "id": "c84fe227",
   "metadata": {},
   "outputs": [],
   "source": [
    "\n",
    "# Step 2: Define Prompts\n",
    "\n",
    "locations = {\n",
    "    \"Mumbai Bandra-Worli Sea Link\": [\n",
    "        \"front view from sea level, full span visible, golden-hour light\",\n",
    "        \"side view from the bridge approach, monsoon clouds, wet asphalt reflections\",\n",
    "        \"aerial drone shot at night, bridge lights forming arc, Mumbai skyline\"\n",
    "    ],\n",
    "    \"Rajasthan Hawa Mahal\": [\n",
    "        \"frontal facade in daylight, pink sandstone, honeycomb windows, street foreground\",\n",
    "        \"side street perspective, bustling bazaar, tourists walking\",\n",
    "        \"aerial view of Jaipur with Hawa Mahal centered, Aravalli hills in distance\"\n",
    "    ],\n",
    "    \"Nagpur rainforest\": [\n",
    "        \"ground-level trail, dense monsoon canopy, beams of sunlight, mist\",\n",
    "        \"side angle near waterfall, wet rocks, moss, colorful birds\",\n",
    "        \"aerial canopy after rain, rolling green treetops, low clouds\"\n",
    "    ],\n",
    "}\n",
    "\n",
    "STYLE = \"Photorealistic, ultra-detailed, natural colors, sharp focus, 8k\"\n",
    "NEG = \"blurry, distorted, cartoonish, lowres, text, watermarks\"\n"
   ]
  },
  {
   "cell_type": "code",
   "execution_count": null,
   "id": "a36671c7",
   "metadata": {},
   "outputs": [
    {
     "name": "stdout",
     "output_type": "stream",
     "text": [
      "\n",
      "🎨 Generating → Mumbai Bandra-Worli Sea Link | front view from sea level, full span visible, golden-hour light | Seed: 2818325\n"
     ]
    },
    {
     "name": "stderr",
     "output_type": "stream",
     "text": [
      "100%|██████████| 30/30 [04:03<00:00,  8.11s/it]\n"
     ]
    },
    {
     "name": "stdout",
     "output_type": "stream",
     "text": [
      "✅ Done in 266.16 sec\n",
      "\n",
      "🎨 Generating → Mumbai Bandra-Worli Sea Link | side view from the bridge approach, monsoon clouds, wet asphalt reflections | Seed: 5637584\n"
     ]
    },
    {
     "name": "stderr",
     "output_type": "stream",
     "text": [
      "100%|██████████| 30/30 [08:22<00:00, 16.76s/it]\n"
     ]
    },
    {
     "name": "stdout",
     "output_type": "stream",
     "text": [
      "✅ Done in 511.17 sec\n",
      "\n",
      "🎨 Generating → Mumbai Bandra-Worli Sea Link | aerial drone shot at night, bridge lights forming arc, Mumbai skyline | Seed: 835762\n"
     ]
    },
    {
     "name": "stderr",
     "output_type": "stream",
     "text": [
      "100%|██████████| 30/30 [08:25<00:00, 16.85s/it]\n"
     ]
    },
    {
     "name": "stdout",
     "output_type": "stream",
     "text": [
      "✅ Done in 514.03 sec\n",
      "\n",
      "🎨 Generating → Rajasthan Hawa Mahal | frontal facade in daylight, pink sandstone, honeycomb windows, street foreground | Seed: 6566206\n"
     ]
    },
    {
     "name": "stderr",
     "output_type": "stream",
     "text": [
      "100%|██████████| 30/30 [08:23<00:00, 16.80s/it]\n"
     ]
    },
    {
     "name": "stdout",
     "output_type": "stream",
     "text": [
      "✅ Done in 512.42 sec\n",
      "\n",
      "🎨 Generating → Rajasthan Hawa Mahal | side street perspective, bustling bazaar, tourists walking | Seed: 8110199\n"
     ]
    },
    {
     "name": "stderr",
     "output_type": "stream",
     "text": [
      "100%|██████████| 30/30 [08:20<00:00, 16.69s/it]\n"
     ]
    },
    {
     "name": "stdout",
     "output_type": "stream",
     "text": [
      "✅ Done in 509.09 sec\n",
      "\n",
      "🎨 Generating → Rajasthan Hawa Mahal | aerial view of Jaipur with Hawa Mahal centered, Aravalli hills in distance | Seed: 759534\n"
     ]
    },
    {
     "name": "stderr",
     "output_type": "stream",
     "text": [
      "100%|██████████| 30/30 [08:22<00:00, 16.75s/it]\n"
     ]
    },
    {
     "name": "stdout",
     "output_type": "stream",
     "text": [
      "✅ Done in 510.98 sec\n",
      "\n",
      "🎨 Generating → Nagpur rainforest | ground-level trail, dense monsoon canopy, beams of sunlight, mist | Seed: 413426\n"
     ]
    },
    {
     "name": "stderr",
     "output_type": "stream",
     "text": [
      "100%|██████████| 30/30 [08:23<00:00, 16.79s/it]\n"
     ]
    },
    {
     "name": "stdout",
     "output_type": "stream",
     "text": [
      "✅ Done in 512.11 sec\n",
      "\n",
      "🎨 Generating → Nagpur rainforest | side angle near waterfall, wet rocks, moss, colorful birds | Seed: 7794082\n"
     ]
    },
    {
     "name": "stderr",
     "output_type": "stream",
     "text": [
      "100%|██████████| 30/30 [08:23<00:00, 16.77s/it]\n"
     ]
    },
    {
     "name": "stdout",
     "output_type": "stream",
     "text": [
      "✅ Done in 511.72 sec\n",
      "\n",
      "🎨 Generating → Nagpur rainforest | aerial canopy after rain, rolling green treetops, low clouds | Seed: 2975810\n"
     ]
    },
    {
     "name": "stderr",
     "output_type": "stream",
     "text": [
      "100%|██████████| 30/30 [08:11<00:00, 16.40s/it]\n"
     ]
    },
    {
     "name": "stdout",
     "output_type": "stream",
     "text": [
      "✅ Done in 500.08 sec\n",
      "\n",
      "🎉 Total images generated: 9\n"
     ]
    }
   ],
   "source": [
    "\n",
    "# Step 3: Generate All Images\n",
    "\n",
    "HEIGHT, WIDTH = 1024, 1024   \n",
    "NUM_STEPS = 30\n",
    "GUIDANCE = 7\n",
    "\n",
    "records = []\n",
    "\n",
    "for place, angle_list in locations.items():\n",
    "    for angle_text in angle_list:\n",
    "        seed = random.randint(1, 10_000_000)\n",
    "        set_seed(seed)\n",
    "\n",
    "        prompt = f\"{STYLE}. {place}, {angle_text}\"\n",
    "        file_stub = f\"{place.replace(' ', '_')}_{angle_text[:20].replace(' ','_')}_{seed}\"\n",
    "\n",
    "        print(f\"\\n🎨 Generating → {place} | {angle_text} | Seed: {seed}\")\n",
    "        start = time.time()\n",
    "\n",
    "        image = pipe(\n",
    "            prompt=prompt,\n",
    "            negative_prompt=NEG,\n",
    "            num_inference_steps=NUM_STEPS,\n",
    "            guidance_scale=GUIDANCE,\n",
    "            height=HEIGHT, width=WIDTH\n",
    "        ).images[0]\n",
    "\n",
    "        end = time.time()\n",
    "        print(f\"✅ Done in {(end-start):.2f} sec\")\n",
    "\n",
    "        out_path = OUT_DIR / f\"{file_stub}.png\"\n",
    "        image.save(out_path)\n",
    "\n",
    "        meta = {\n",
    "            \"place\": place, \"angle\": angle_text, \"prompt\": prompt,\n",
    "            \"negative_prompt\": NEG, \"seed\": seed, \"steps\": NUM_STEPS,\n",
    "            \"guidance\": GUIDANCE, \"size\": [WIDTH, HEIGHT],\n",
    "            \"timestamp\": int(time.time())\n",
    "        }\n",
    "        with open(META_DIR / f\"{file_stub}.json\", \"w\") as f:\n",
    "            json.dump(meta, f, indent=2)\n",
    "\n",
    "        records.append({\"image\": str(out_path), **meta})\n",
    "\n",
    "print(\"\\n🎉 Total images generated:\", len(records))\n"
   ]
  },
  {
   "cell_type": "code",
   "execution_count": null,
   "id": "37a6f881",
   "metadata": {},
   "outputs": [
    {
     "name": "stdout",
     "output_type": "stream",
     "text": [
      "✅ Upscaling complete. Files saved in: landmark_cuda_run\\outputs_upscaled\n"
     ]
    }
   ],
   "source": [
    "\n",
    "from realesrgan import RealESRGAN\n",
    "\n",
    "# Initialize ESRGAN (x4 upscale model)\n",
    "device_re = torch.device(\"cuda\" if torch.cuda.is_available() else \"cpu\")\n",
    "upscaler = RealESRGAN(device_re, scale=4)\n",
    "\n",
    "# Download pretrained weights (first time only)\n",
    "upscaler.load_weights(\"weights/RealESRGAN_x4plus.pth\")\n",
    "\n",
    "UPSCALED_DIR = Path(PROJECT) / \"outputs_upscaled\"\n",
    "UPSCALED_DIR.mkdir(parents=True, exist_ok=True)\n",
    "\n",
    "print(\"\\n🚀 Upscaling images...\")\n",
    "\n",
    "for img_file in OUT_DIR.glob(\"*.png\"):\n",
    "    img = Image.open(img_file).convert(\"RGB\")\n",
    "    sr = upscaler.predict(img)   # 4× upscaling\n",
    "    sr_resized = sr.resize((2048, 2048))  # resize to clean 2K\n",
    "    sr_resized.save(UPSCALED_DIR / img_file.name)\n",
    "\n",
    "print(\"✅ Upscaling complete. Files saved in:\", UPSCALED_DIR)\n"
   ]
  },
  {
   "cell_type": "code",
   "execution_count": null,
   "id": "2cef0cfb",
   "metadata": {},
   "outputs": [],
   "source": [
    "\n",
    "from realesrgan import RealESRGAN\n",
    "\n",
    "# Initialize ESRGAN (x4 upscale model)\n",
    "device_re = torch.device(\"cuda\" if torch.cuda.is_available() else \"cpu\")\n",
    "upscaler = RealESRGAN(device_re, scale=4)\n",
    "\n",
    "# Download pretrained weights (first time only)\n",
    "upscaler.load_weights(\"weights/RealESRGAN_x4plus.pth\")\n",
    "\n",
    "UPSCALED_DIR = Path(PROJECT) / \"outputs_upscaled\"\n",
    "UPSCALED_DIR.mkdir(parents=True, exist_ok=True)\n",
    "\n",
    "print(\"\\n🚀 Upscaling images...\")\n",
    "\n",
    "for img_file in OUT_DIR.glob(\"*.png\"):\n",
    "    img = Image.open(img_file).convert(\"RGB\")\n",
    "    sr = upscaler.predict(img)   # 4× upscaling\n",
    "    sr_resized = sr.resize((2048, 2048))  # resize to clean 2K\n",
    "    sr_resized.save(UPSCALED_DIR / img_file.name)\n",
    "\n",
    "print(\"✅ Upscaling complete. Files saved in:\", UPSCALED_DIR)\n"
   ]
  },
  {
   "cell_type": "code",
   "execution_count": null,
   "id": "4c22b07e",
   "metadata": {},
   "outputs": [],
   "source": []
  }
 ],
 "metadata": {
  "kernelspec": {
   "display_name": "Python 3",
   "language": "python",
   "name": "python3"
  },
  "language_info": {
   "codemirror_mode": {
    "name": "ipython",
    "version": 3
   },
   "file_extension": ".py",
   "mimetype": "text/x-python",
   "name": "python",
   "nbconvert_exporter": "python",
   "pygments_lexer": "ipython3",
   "version": "3.12.9"
  }
 },
 "nbformat": 4,
 "nbformat_minor": 5
}
